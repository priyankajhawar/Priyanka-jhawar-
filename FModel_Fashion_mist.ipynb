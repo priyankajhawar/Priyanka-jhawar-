{
 "cells": [
  {
   "cell_type": "code",
   "execution_count": 1,
   "id": "twenty-reporter",
   "metadata": {},
   "outputs": [],
   "source": [
    "import pandas as pd \n",
    "import numpy as np "
   ]
  },
  {
   "cell_type": "code",
   "execution_count": 2,
   "id": "cardiovascular-ottawa",
   "metadata": {},
   "outputs": [],
   "source": [
    "from tensorflow.keras.models import Model"
   ]
  },
  {
   "cell_type": "code",
   "execution_count": 3,
   "id": "broken-renewal",
   "metadata": {},
   "outputs": [],
   "source": [
    "from tensorflow.keras.datasets import fashion_mnist"
   ]
  },
  {
   "cell_type": "code",
   "execution_count": 41,
   "id": "potential-accreditation",
   "metadata": {},
   "outputs": [],
   "source": [
    "(Xtrain, ytrain),(Xtest, ytest) = fashion_mnist.load_data()"
   ]
  },
  {
   "cell_type": "code",
   "execution_count": 42,
   "id": "allied-arrow",
   "metadata": {},
   "outputs": [
    {
     "data": {
      "text/plain": [
       "(60000, 28, 28)"
      ]
     },
     "execution_count": 42,
     "metadata": {},
     "output_type": "execute_result"
    }
   ],
   "source": [
    "Xtrain.shape"
   ]
  },
  {
   "cell_type": "code",
   "execution_count": 43,
   "id": "innocent-screw",
   "metadata": {},
   "outputs": [
    {
     "data": {
      "text/plain": [
       "(10000, 28, 28)"
      ]
     },
     "execution_count": 43,
     "metadata": {},
     "output_type": "execute_result"
    }
   ],
   "source": [
    "Xtest.shape"
   ]
  },
  {
   "cell_type": "code",
   "execution_count": 7,
   "id": "lyric-warrior",
   "metadata": {},
   "outputs": [
    {
     "data": {
      "text/plain": [
       "array([[  0,   0,   0,   0,   0,   0,   0,   0,   0,   0,   0,   0,   0,\n",
       "          0,   0,   0,   0,   0,   0,   0,   0,   0,   0,   0,   0,   0,\n",
       "          0,   0],\n",
       "       [  0,   0,   0,   0,   0,   0,   0,   0,   0,   0,   0,   0,   0,\n",
       "          0,   0,   0,   0,   0,   0,   0,   0,   0,   0,   0,   0,   0,\n",
       "          0,   0],\n",
       "       [  0,   0,   0,   0,   0,   0,   0,   0,   0,   0,   0,   0,   0,\n",
       "          0,   0,   0,   0,   0,   0,   0,   0,   0,   0,   0,   0,   0,\n",
       "          0,   0],\n",
       "       [  0,   0,   0,   0,   0,   0,   0,   0,   0,   0,   0,   0,   1,\n",
       "          0,   0,  13,  73,   0,   0,   1,   4,   0,   0,   0,   0,   1,\n",
       "          1,   0],\n",
       "       [  0,   0,   0,   0,   0,   0,   0,   0,   0,   0,   0,   0,   3,\n",
       "          0,  36, 136, 127,  62,  54,   0,   0,   0,   1,   3,   4,   0,\n",
       "          0,   3],\n",
       "       [  0,   0,   0,   0,   0,   0,   0,   0,   0,   0,   0,   0,   6,\n",
       "          0, 102, 204, 176, 134, 144, 123,  23,   0,   0,   0,   0,  12,\n",
       "         10,   0],\n",
       "       [  0,   0,   0,   0,   0,   0,   0,   0,   0,   0,   0,   0,   0,\n",
       "          0, 155, 236, 207, 178, 107, 156, 161, 109,  64,  23,  77, 130,\n",
       "         72,  15],\n",
       "       [  0,   0,   0,   0,   0,   0,   0,   0,   0,   0,   0,   1,   0,\n",
       "         69, 207, 223, 218, 216, 216, 163, 127, 121, 122, 146, 141,  88,\n",
       "        172,  66],\n",
       "       [  0,   0,   0,   0,   0,   0,   0,   0,   0,   1,   1,   1,   0,\n",
       "        200, 232, 232, 233, 229, 223, 223, 215, 213, 164, 127, 123, 196,\n",
       "        229,   0],\n",
       "       [  0,   0,   0,   0,   0,   0,   0,   0,   0,   0,   0,   0,   0,\n",
       "        183, 225, 216, 223, 228, 235, 227, 224, 222, 224, 221, 223, 245,\n",
       "        173,   0],\n",
       "       [  0,   0,   0,   0,   0,   0,   0,   0,   0,   0,   0,   0,   0,\n",
       "        193, 228, 218, 213, 198, 180, 212, 210, 211, 213, 223, 220, 243,\n",
       "        202,   0],\n",
       "       [  0,   0,   0,   0,   0,   0,   0,   0,   0,   1,   3,   0,  12,\n",
       "        219, 220, 212, 218, 192, 169, 227, 208, 218, 224, 212, 226, 197,\n",
       "        209,  52],\n",
       "       [  0,   0,   0,   0,   0,   0,   0,   0,   0,   0,   6,   0,  99,\n",
       "        244, 222, 220, 218, 203, 198, 221, 215, 213, 222, 220, 245, 119,\n",
       "        167,  56],\n",
       "       [  0,   0,   0,   0,   0,   0,   0,   0,   0,   4,   0,   0,  55,\n",
       "        236, 228, 230, 228, 240, 232, 213, 218, 223, 234, 217, 217, 209,\n",
       "         92,   0],\n",
       "       [  0,   0,   1,   4,   6,   7,   2,   0,   0,   0,   0,   0, 237,\n",
       "        226, 217, 223, 222, 219, 222, 221, 216, 223, 229, 215, 218, 255,\n",
       "         77,   0],\n",
       "       [  0,   3,   0,   0,   0,   0,   0,   0,   0,  62, 145, 204, 228,\n",
       "        207, 213, 221, 218, 208, 211, 218, 224, 223, 219, 215, 224, 244,\n",
       "        159,   0],\n",
       "       [  0,   0,   0,   0,  18,  44,  82, 107, 189, 228, 220, 222, 217,\n",
       "        226, 200, 205, 211, 230, 224, 234, 176, 188, 250, 248, 233, 238,\n",
       "        215,   0],\n",
       "       [  0,  57, 187, 208, 224, 221, 224, 208, 204, 214, 208, 209, 200,\n",
       "        159, 245, 193, 206, 223, 255, 255, 221, 234, 221, 211, 220, 232,\n",
       "        246,   0],\n",
       "       [  3, 202, 228, 224, 221, 211, 211, 214, 205, 205, 205, 220, 240,\n",
       "         80, 150, 255, 229, 221, 188, 154, 191, 210, 204, 209, 222, 228,\n",
       "        225,   0],\n",
       "       [ 98, 233, 198, 210, 222, 229, 229, 234, 249, 220, 194, 215, 217,\n",
       "        241,  65,  73, 106, 117, 168, 219, 221, 215, 217, 223, 223, 224,\n",
       "        229,  29],\n",
       "       [ 75, 204, 212, 204, 193, 205, 211, 225, 216, 185, 197, 206, 198,\n",
       "        213, 240, 195, 227, 245, 239, 223, 218, 212, 209, 222, 220, 221,\n",
       "        230,  67],\n",
       "       [ 48, 203, 183, 194, 213, 197, 185, 190, 194, 192, 202, 214, 219,\n",
       "        221, 220, 236, 225, 216, 199, 206, 186, 181, 177, 172, 181, 205,\n",
       "        206, 115],\n",
       "       [  0, 122, 219, 193, 179, 171, 183, 196, 204, 210, 213, 207, 211,\n",
       "        210, 200, 196, 194, 191, 195, 191, 198, 192, 176, 156, 167, 177,\n",
       "        210,  92],\n",
       "       [  0,   0,  74, 189, 212, 191, 175, 172, 175, 181, 185, 188, 189,\n",
       "        188, 193, 198, 204, 209, 210, 210, 211, 188, 188, 194, 192, 216,\n",
       "        170,   0],\n",
       "       [  2,   0,   0,   0,  66, 200, 222, 237, 239, 242, 246, 243, 244,\n",
       "        221, 220, 193, 191, 179, 182, 182, 181, 176, 166, 168,  99,  58,\n",
       "          0,   0],\n",
       "       [  0,   0,   0,   0,   0,   0,   0,  40,  61,  44,  72,  41,  35,\n",
       "          0,   0,   0,   0,   0,   0,   0,   0,   0,   0,   0,   0,   0,\n",
       "          0,   0],\n",
       "       [  0,   0,   0,   0,   0,   0,   0,   0,   0,   0,   0,   0,   0,\n",
       "          0,   0,   0,   0,   0,   0,   0,   0,   0,   0,   0,   0,   0,\n",
       "          0,   0],\n",
       "       [  0,   0,   0,   0,   0,   0,   0,   0,   0,   0,   0,   0,   0,\n",
       "          0,   0,   0,   0,   0,   0,   0,   0,   0,   0,   0,   0,   0,\n",
       "          0,   0]], dtype=uint8)"
      ]
     },
     "execution_count": 7,
     "metadata": {},
     "output_type": "execute_result"
    }
   ],
   "source": [
    "Xtrain[0]"
   ]
  },
  {
   "cell_type": "code",
   "execution_count": 8,
   "id": "abstract-electric",
   "metadata": {},
   "outputs": [
    {
     "data": {
      "text/plain": [
       "255"
      ]
     },
     "execution_count": 8,
     "metadata": {},
     "output_type": "execute_result"
    }
   ],
   "source": [
    "Xtrain[0].max()"
   ]
  },
  {
   "cell_type": "code",
   "execution_count": 9,
   "id": "immune-rings",
   "metadata": {},
   "outputs": [
    {
     "data": {
      "text/plain": [
       "0"
      ]
     },
     "execution_count": 9,
     "metadata": {},
     "output_type": "execute_result"
    }
   ],
   "source": [
    "Xtrain[0].min()\n"
   ]
  },
  {
   "cell_type": "code",
   "execution_count": 11,
   "id": "unable-extent",
   "metadata": {},
   "outputs": [],
   "source": [
    "import matplotlib.pyplot as plt"
   ]
  },
  {
   "cell_type": "code",
   "execution_count": 12,
   "id": "advised-template",
   "metadata": {},
   "outputs": [
    {
     "data": {
      "text/plain": [
       "<matplotlib.image.AxesImage at 0x23b125f20d0>"
      ]
     },
     "execution_count": 12,
     "metadata": {},
     "output_type": "execute_result"
    },
    {
     "data": {
      "image/png": "[encoded data removed]",
      "text/plain": [
       "<Figure size 432x288 with 1 Axes>"
      ]
     },
     "metadata": {
      "needs_background": "light"
     },
     "output_type": "display_data"
    }
   ],
   "source": [
    "plt.imshow(Xtrain[0])"
   ]
  },
  {
   "cell_type": "code",
   "execution_count": 14,
   "id": "musical-influence",
   "metadata": {},
   "outputs": [
    {
     "data": {
      "text/plain": [
       "9"
      ]
     },
     "execution_count": 14,
     "metadata": {},
     "output_type": "execute_result"
    }
   ],
   "source": [
    "ytrain[0]"
   ]
  },
  {
   "cell_type": "code",
   "execution_count": 15,
   "id": "conscious-example",
   "metadata": {},
   "outputs": [],
   "source": [
    "label = [\"T-shirt/top\",\"Trouser\",\"Pullover\", \"Dress\", \"Coat\",\"Sandal\",\"Shirt\",\"Sneaker\", \"Bag\",\"Ankle boot\"]"
   ]
  },
  {
   "cell_type": "code",
   "execution_count": 16,
   "id": "satisfactory-beijing",
   "metadata": {},
   "outputs": [
    {
     "data": {
      "text/plain": [
       "'Ankle boot'"
      ]
     },
     "execution_count": 16,
     "metadata": {},
     "output_type": "execute_result"
    }
   ],
   "source": [
    "label[ ytrain[0]]"
   ]
  },
  {
   "cell_type": "markdown",
   "id": "handled-congress",
   "metadata": {},
   "source": [
    "###  Scaling "
   ]
  },
  {
   "cell_type": "code",
   "execution_count": 45,
   "id": "fatal-summary",
   "metadata": {},
   "outputs": [],
   "source": [
    "Xtrain = Xtrain.reshape(-1, 28*28)/255"
   ]
  },
  {
   "cell_type": "code",
   "execution_count": 46,
   "id": "sticky-novel",
   "metadata": {},
   "outputs": [],
   "source": [
    "Xtest = Xtest.reshape(-1, 28*28)/255"
   ]
  },
  {
   "cell_type": "code",
   "execution_count": 47,
   "id": "proof-rebel",
   "metadata": {},
   "outputs": [
    {
     "data": {
      "text/plain": [
       "array([0.        , 0.        , 0.        , 0.        , 0.        ,\n",
       "       0.        , 0.        , 0.        , 0.        , 0.        ,\n",
       "       0.        , 0.        , 0.        , 0.        , 0.        ,\n",
       "       0.        , 0.        , 0.        , 0.        , 0.        ,\n",
       "       0.        , 0.        , 0.        , 0.        , 0.        ,\n",
       "       0.        , 0.        , 0.        , 0.        , 0.        ,\n",
       "       0.        , 0.        , 0.        , 0.        , 0.        ,\n",
       "       0.        , 0.        , 0.        , 0.        , 0.        ,\n",
       "       0.        , 0.        , 0.        , 0.        , 0.        ,\n",
       "       0.        , 0.        , 0.        , 0.        , 0.        ,\n",
       "       0.        , 0.        , 0.        , 0.        , 0.        ,\n",
       "       0.        , 0.        , 0.        , 0.        , 0.        ,\n",
       "       0.        , 0.        , 0.        , 0.        , 0.        ,\n",
       "       0.        , 0.        , 0.        , 0.        , 0.        ,\n",
       "       0.        , 0.        , 0.        , 0.        , 0.        ,\n",
       "       0.        , 0.        , 0.        , 0.        , 0.        ,\n",
       "       0.        , 0.        , 0.        , 0.        , 0.        ,\n",
       "       0.        , 0.        , 0.        , 0.        , 0.        ,\n",
       "       0.        , 0.        , 0.        , 0.        , 0.        ,\n",
       "       0.        , 0.00392157, 0.        , 0.        , 0.05098039,\n",
       "       0.28627451, 0.        , 0.        , 0.00392157, 0.01568627,\n",
       "       0.        , 0.        , 0.        , 0.        , 0.00392157,\n",
       "       0.00392157, 0.        , 0.        , 0.        , 0.        ,\n",
       "       0.        , 0.        , 0.        , 0.        , 0.        ,\n",
       "       0.        , 0.        , 0.        , 0.        , 0.01176471,\n",
       "       0.        , 0.14117647, 0.53333333, 0.49803922, 0.24313725,\n",
       "       0.21176471, 0.        , 0.        , 0.        , 0.00392157,\n",
       "       0.01176471, 0.01568627, 0.        , 0.        , 0.01176471,\n",
       "       0.        , 0.        , 0.        , 0.        , 0.        ,\n",
       "       0.        , 0.        , 0.        , 0.        , 0.        ,\n",
       "       0.        , 0.        , 0.02352941, 0.        , 0.4       ,\n",
       "       0.8       , 0.69019608, 0.5254902 , 0.56470588, 0.48235294,\n",
       "       0.09019608, 0.        , 0.        , 0.        , 0.        ,\n",
       "       0.04705882, 0.03921569, 0.        , 0.        , 0.        ,\n",
       "       0.        , 0.        , 0.        , 0.        , 0.        ,\n",
       "       0.        , 0.        , 0.        , 0.        , 0.        ,\n",
       "       0.        , 0.        , 0.60784314, 0.9254902 , 0.81176471,\n",
       "       0.69803922, 0.41960784, 0.61176471, 0.63137255, 0.42745098,\n",
       "       0.25098039, 0.09019608, 0.30196078, 0.50980392, 0.28235294,\n",
       "       0.05882353, 0.        , 0.        , 0.        , 0.        ,\n",
       "       0.        , 0.        , 0.        , 0.        , 0.        ,\n",
       "       0.        , 0.        , 0.00392157, 0.        , 0.27058824,\n",
       "       0.81176471, 0.8745098 , 0.85490196, 0.84705882, 0.84705882,\n",
       "       0.63921569, 0.49803922, 0.4745098 , 0.47843137, 0.57254902,\n",
       "       0.55294118, 0.34509804, 0.6745098 , 0.25882353, 0.        ,\n",
       "       0.        , 0.        , 0.        , 0.        , 0.        ,\n",
       "       0.        , 0.        , 0.        , 0.00392157, 0.00392157,\n",
       "       0.00392157, 0.        , 0.78431373, 0.90980392, 0.90980392,\n",
       "       0.91372549, 0.89803922, 0.8745098 , 0.8745098 , 0.84313725,\n",
       "       0.83529412, 0.64313725, 0.49803922, 0.48235294, 0.76862745,\n",
       "       0.89803922, 0.        , 0.        , 0.        , 0.        ,\n",
       "       0.        , 0.        , 0.        , 0.        , 0.        ,\n",
       "       0.        , 0.        , 0.        , 0.        , 0.        ,\n",
       "       0.71764706, 0.88235294, 0.84705882, 0.8745098 , 0.89411765,\n",
       "       0.92156863, 0.89019608, 0.87843137, 0.87058824, 0.87843137,\n",
       "       0.86666667, 0.8745098 , 0.96078431, 0.67843137, 0.        ,\n",
       "       0.        , 0.        , 0.        , 0.        , 0.        ,\n",
       "       0.        , 0.        , 0.        , 0.        , 0.        ,\n",
       "       0.        , 0.        , 0.        , 0.75686275, 0.89411765,\n",
       "       0.85490196, 0.83529412, 0.77647059, 0.70588235, 0.83137255,\n",
       "       0.82352941, 0.82745098, 0.83529412, 0.8745098 , 0.8627451 ,\n",
       "       0.95294118, 0.79215686, 0.        , 0.        , 0.        ,\n",
       "       0.        , 0.        , 0.        , 0.        , 0.        ,\n",
       "       0.        , 0.        , 0.00392157, 0.01176471, 0.        ,\n",
       "       0.04705882, 0.85882353, 0.8627451 , 0.83137255, 0.85490196,\n",
       "       0.75294118, 0.6627451 , 0.89019608, 0.81568627, 0.85490196,\n",
       "       0.87843137, 0.83137255, 0.88627451, 0.77254902, 0.81960784,\n",
       "       0.20392157, 0.        , 0.        , 0.        , 0.        ,\n",
       "       0.        , 0.        , 0.        , 0.        , 0.        ,\n",
       "       0.        , 0.02352941, 0.        , 0.38823529, 0.95686275,\n",
       "       0.87058824, 0.8627451 , 0.85490196, 0.79607843, 0.77647059,\n",
       "       0.86666667, 0.84313725, 0.83529412, 0.87058824, 0.8627451 ,\n",
       "       0.96078431, 0.46666667, 0.65490196, 0.21960784, 0.        ,\n",
       "       0.        , 0.        , 0.        , 0.        , 0.        ,\n",
       "       0.        , 0.        , 0.        , 0.01568627, 0.        ,\n",
       "       0.        , 0.21568627, 0.9254902 , 0.89411765, 0.90196078,\n",
       "       0.89411765, 0.94117647, 0.90980392, 0.83529412, 0.85490196,\n",
       "       0.8745098 , 0.91764706, 0.85098039, 0.85098039, 0.81960784,\n",
       "       0.36078431, 0.        , 0.        , 0.        , 0.00392157,\n",
       "       0.01568627, 0.02352941, 0.02745098, 0.00784314, 0.        ,\n",
       "       0.        , 0.        , 0.        , 0.        , 0.92941176,\n",
       "       0.88627451, 0.85098039, 0.8745098 , 0.87058824, 0.85882353,\n",
       "       0.87058824, 0.86666667, 0.84705882, 0.8745098 , 0.89803922,\n",
       "       0.84313725, 0.85490196, 1.        , 0.30196078, 0.        ,\n",
       "       0.        , 0.01176471, 0.        , 0.        , 0.        ,\n",
       "       0.        , 0.        , 0.        , 0.        , 0.24313725,\n",
       "       0.56862745, 0.8       , 0.89411765, 0.81176471, 0.83529412,\n",
       "       0.86666667, 0.85490196, 0.81568627, 0.82745098, 0.85490196,\n",
       "       0.87843137, 0.8745098 , 0.85882353, 0.84313725, 0.87843137,\n",
       "       0.95686275, 0.62352941, 0.        , 0.        , 0.        ,\n",
       "       0.        , 0.        , 0.07058824, 0.17254902, 0.32156863,\n",
       "       0.41960784, 0.74117647, 0.89411765, 0.8627451 , 0.87058824,\n",
       "       0.85098039, 0.88627451, 0.78431373, 0.80392157, 0.82745098,\n",
       "       0.90196078, 0.87843137, 0.91764706, 0.69019608, 0.7372549 ,\n",
       "       0.98039216, 0.97254902, 0.91372549, 0.93333333, 0.84313725,\n",
       "       0.        , 0.        , 0.22352941, 0.73333333, 0.81568627,\n",
       "       0.87843137, 0.86666667, 0.87843137, 0.81568627, 0.8       ,\n",
       "       0.83921569, 0.81568627, 0.81960784, 0.78431373, 0.62352941,\n",
       "       0.96078431, 0.75686275, 0.80784314, 0.8745098 , 1.        ,\n",
       "       1.        , 0.86666667, 0.91764706, 0.86666667, 0.82745098,\n",
       "       0.8627451 , 0.90980392, 0.96470588, 0.        , 0.01176471,\n",
       "       0.79215686, 0.89411765, 0.87843137, 0.86666667, 0.82745098,\n",
       "       0.82745098, 0.83921569, 0.80392157, 0.80392157, 0.80392157,\n",
       "       0.8627451 , 0.94117647, 0.31372549, 0.58823529, 1.        ,\n",
       "       0.89803922, 0.86666667, 0.7372549 , 0.60392157, 0.74901961,\n",
       "       0.82352941, 0.8       , 0.81960784, 0.87058824, 0.89411765,\n",
       "       0.88235294, 0.        , 0.38431373, 0.91372549, 0.77647059,\n",
       "       0.82352941, 0.87058824, 0.89803922, 0.89803922, 0.91764706,\n",
       "       0.97647059, 0.8627451 , 0.76078431, 0.84313725, 0.85098039,\n",
       "       0.94509804, 0.25490196, 0.28627451, 0.41568627, 0.45882353,\n",
       "       0.65882353, 0.85882353, 0.86666667, 0.84313725, 0.85098039,\n",
       "       0.8745098 , 0.8745098 , 0.87843137, 0.89803922, 0.11372549,\n",
       "       0.29411765, 0.8       , 0.83137255, 0.8       , 0.75686275,\n",
       "       0.80392157, 0.82745098, 0.88235294, 0.84705882, 0.7254902 ,\n",
       "       0.77254902, 0.80784314, 0.77647059, 0.83529412, 0.94117647,\n",
       "       0.76470588, 0.89019608, 0.96078431, 0.9372549 , 0.8745098 ,\n",
       "       0.85490196, 0.83137255, 0.81960784, 0.87058824, 0.8627451 ,\n",
       "       0.86666667, 0.90196078, 0.2627451 , 0.18823529, 0.79607843,\n",
       "       0.71764706, 0.76078431, 0.83529412, 0.77254902, 0.7254902 ,\n",
       "       0.74509804, 0.76078431, 0.75294118, 0.79215686, 0.83921569,\n",
       "       0.85882353, 0.86666667, 0.8627451 , 0.9254902 , 0.88235294,\n",
       "       0.84705882, 0.78039216, 0.80784314, 0.72941176, 0.70980392,\n",
       "       0.69411765, 0.6745098 , 0.70980392, 0.80392157, 0.80784314,\n",
       "       0.45098039, 0.        , 0.47843137, 0.85882353, 0.75686275,\n",
       "       0.70196078, 0.67058824, 0.71764706, 0.76862745, 0.8       ,\n",
       "       0.82352941, 0.83529412, 0.81176471, 0.82745098, 0.82352941,\n",
       "       0.78431373, 0.76862745, 0.76078431, 0.74901961, 0.76470588,\n",
       "       0.74901961, 0.77647059, 0.75294118, 0.69019608, 0.61176471,\n",
       "       0.65490196, 0.69411765, 0.82352941, 0.36078431, 0.        ,\n",
       "       0.        , 0.29019608, 0.74117647, 0.83137255, 0.74901961,\n",
       "       0.68627451, 0.6745098 , 0.68627451, 0.70980392, 0.7254902 ,\n",
       "       0.7372549 , 0.74117647, 0.7372549 , 0.75686275, 0.77647059,\n",
       "       0.8       , 0.81960784, 0.82352941, 0.82352941, 0.82745098,\n",
       "       0.7372549 , 0.7372549 , 0.76078431, 0.75294118, 0.84705882,\n",
       "       0.66666667, 0.        , 0.00784314, 0.        , 0.        ,\n",
       "       0.        , 0.25882353, 0.78431373, 0.87058824, 0.92941176,\n",
       "       0.9372549 , 0.94901961, 0.96470588, 0.95294118, 0.95686275,\n",
       "       0.86666667, 0.8627451 , 0.75686275, 0.74901961, 0.70196078,\n",
       "       0.71372549, 0.71372549, 0.70980392, 0.69019608, 0.65098039,\n",
       "       0.65882353, 0.38823529, 0.22745098, 0.        , 0.        ,\n",
       "       0.        , 0.        , 0.        , 0.        , 0.        ,\n",
       "       0.        , 0.        , 0.15686275, 0.23921569, 0.17254902,\n",
       "       0.28235294, 0.16078431, 0.1372549 , 0.        , 0.        ,\n",
       "       0.        , 0.        , 0.        , 0.        , 0.        ,\n",
       "       0.        , 0.        , 0.        , 0.        , 0.        ,\n",
       "       0.        , 0.        , 0.        , 0.        , 0.        ,\n",
       "       0.        , 0.        , 0.        , 0.        , 0.        ,\n",
       "       0.        , 0.        , 0.        , 0.        , 0.        ,\n",
       "       0.        , 0.        , 0.        , 0.        , 0.        ,\n",
       "       0.        , 0.        , 0.        , 0.        , 0.        ,\n",
       "       0.        , 0.        , 0.        , 0.        , 0.        ,\n",
       "       0.        , 0.        , 0.        , 0.        , 0.        ,\n",
       "       0.        , 0.        , 0.        , 0.        , 0.        ,\n",
       "       0.        , 0.        , 0.        , 0.        , 0.        ,\n",
       "       0.        , 0.        , 0.        , 0.        , 0.        ,\n",
       "       0.        , 0.        , 0.        , 0.        , 0.        ,\n",
       "       0.        , 0.        , 0.        , 0.        ])"
      ]
     },
     "execution_count": 47,
     "metadata": {},
     "output_type": "execute_result"
    }
   ],
   "source": [
    "Xtrain[0]"
   ]
  },
  {
   "cell_type": "code",
   "execution_count": 20,
   "id": "referenced-birmingham",
   "metadata": {},
   "outputs": [
    {
     "data": {
      "text/plain": [
       "1.0"
      ]
     },
     "execution_count": 20,
     "metadata": {},
     "output_type": "execute_result"
    }
   ],
   "source": [
    "Xtrain[0].max()"
   ]
  },
  {
   "cell_type": "code",
   "execution_count": 21,
   "id": "gothic-saturday",
   "metadata": {},
   "outputs": [
    {
     "data": {
      "text/plain": [
       "0.0"
      ]
     },
     "execution_count": 21,
     "metadata": {},
     "output_type": "execute_result"
    }
   ],
   "source": [
    "Xtrain[0].min()"
   ]
  },
  {
   "cell_type": "code",
   "execution_count": 22,
   "id": "valuable-shift",
   "metadata": {},
   "outputs": [
    {
     "data": {
      "text/plain": [
       "array([[0.        , 0.        , 0.        , 0.        , 0.        ,\n",
       "        0.        , 0.        , 0.        , 0.        , 0.        ,\n",
       "        0.        , 0.        , 0.        , 0.        , 0.        ,\n",
       "        0.        , 0.        , 0.        , 0.        , 0.        ,\n",
       "        0.        , 0.        , 0.        , 0.        , 0.        ,\n",
       "        0.        , 0.        , 0.        ],\n",
       "       [0.        , 0.        , 0.        , 0.        , 0.        ,\n",
       "        0.        , 0.        , 0.        , 0.        , 0.        ,\n",
       "        0.        , 0.        , 0.        , 0.        , 0.        ,\n",
       "        0.        , 0.        , 0.        , 0.        , 0.        ,\n",
       "        0.        , 0.        , 0.        , 0.        , 0.        ,\n",
       "        0.        , 0.        , 0.        ],\n",
       "       [0.        , 0.        , 0.        , 0.        , 0.        ,\n",
       "        0.        , 0.        , 0.        , 0.        , 0.        ,\n",
       "        0.        , 0.        , 0.        , 0.        , 0.        ,\n",
       "        0.        , 0.        , 0.        , 0.        , 0.        ,\n",
       "        0.        , 0.        , 0.        , 0.        , 0.        ,\n",
       "        0.        , 0.        , 0.        ],\n",
       "       [0.        , 0.        , 0.        , 0.        , 0.        ,\n",
       "        0.        , 0.        , 0.        , 0.        , 0.        ,\n",
       "        0.        , 0.        , 0.        , 0.        , 0.        ,\n",
       "        0.        , 0.        , 0.        , 0.        , 0.        ,\n",
       "        0.        , 0.        , 0.        , 0.        , 0.        ,\n",
       "        0.        , 0.        , 0.        ],\n",
       "       [0.        , 0.        , 0.        , 0.        , 0.        ,\n",
       "        0.        , 0.        , 0.        , 0.        , 0.        ,\n",
       "        0.        , 0.        , 0.        , 0.        , 0.        ,\n",
       "        0.        , 0.        , 0.        , 0.        , 0.        ,\n",
       "        0.        , 0.        , 0.        , 0.        , 0.        ,\n",
       "        0.        , 0.        , 0.        ],\n",
       "       [0.        , 0.        , 0.        , 0.        , 0.        ,\n",
       "        0.        , 0.        , 0.        , 0.        , 0.        ,\n",
       "        0.        , 0.        , 0.        , 0.        , 0.        ,\n",
       "        0.        , 0.        , 0.        , 0.        , 0.        ,\n",
       "        0.        , 0.        , 0.        , 0.        , 0.        ,\n",
       "        0.        , 0.        , 0.        ],\n",
       "       [0.        , 0.        , 0.        , 0.        , 0.        ,\n",
       "        0.        , 0.        , 0.        , 0.        , 0.        ,\n",
       "        0.        , 0.        , 0.        , 0.        , 0.        ,\n",
       "        0.        , 0.        , 0.        , 0.        , 0.        ,\n",
       "        0.        , 0.        , 0.        , 0.        , 0.        ,\n",
       "        0.        , 0.        , 0.        ],\n",
       "       [0.        , 0.        , 0.        , 0.        , 0.        ,\n",
       "        0.        , 0.        , 0.        , 0.        , 0.        ,\n",
       "        0.        , 0.        , 0.        , 0.        , 0.        ,\n",
       "        0.        , 0.        , 0.        , 0.        , 0.01176471,\n",
       "        0.00392157, 0.        , 0.        , 0.02745098, 0.        ,\n",
       "        0.14509804, 0.        , 0.        ],\n",
       "       [0.        , 0.        , 0.        , 0.        , 0.        ,\n",
       "        0.        , 0.        , 0.        , 0.        , 0.        ,\n",
       "        0.        , 0.        , 0.        , 0.00392157, 0.00784314,\n",
       "        0.        , 0.10588235, 0.32941176, 0.04313725, 0.        ,\n",
       "        0.        , 0.        , 0.        , 0.        , 0.        ,\n",
       "        0.46666667, 0.        , 0.        ],\n",
       "       [0.        , 0.        , 0.        , 0.        , 0.        ,\n",
       "        0.        , 0.        , 0.        , 0.        , 0.        ,\n",
       "        0.        , 0.        , 0.        , 0.00392157, 0.        ,\n",
       "        0.        , 0.34509804, 0.56078431, 0.43137255, 0.        ,\n",
       "        0.        , 0.        , 0.        , 0.08627451, 0.36470588,\n",
       "        0.41568627, 0.        , 0.        ],\n",
       "       [0.        , 0.        , 0.        , 0.        , 0.        ,\n",
       "        0.        , 0.        , 0.        , 0.        , 0.        ,\n",
       "        0.        , 0.        , 0.        , 0.01568627, 0.        ,\n",
       "        0.20784314, 0.50588235, 0.47058824, 0.57647059, 0.68627451,\n",
       "        0.61568627, 0.65098039, 0.52941176, 0.60392157, 0.65882353,\n",
       "        0.54901961, 0.        , 0.        ],\n",
       "       [0.        , 0.        , 0.        , 0.        , 0.        ,\n",
       "        0.        , 0.        , 0.        , 0.        , 0.        ,\n",
       "        0.        , 0.        , 0.00784314, 0.        , 0.04313725,\n",
       "        0.5372549 , 0.50980392, 0.50196078, 0.62745098, 0.69019608,\n",
       "        0.62352941, 0.65490196, 0.69803922, 0.58431373, 0.59215686,\n",
       "        0.56470588, 0.        , 0.        ],\n",
       "       [0.        , 0.        , 0.        , 0.        , 0.        ,\n",
       "        0.        , 0.00392157, 0.        , 0.00784314, 0.00392157,\n",
       "        0.        , 0.01176471, 0.        , 0.        , 0.45098039,\n",
       "        0.44705882, 0.41568627, 0.5372549 , 0.65882353, 0.6       ,\n",
       "        0.61176471, 0.64705882, 0.65490196, 0.56078431, 0.61568627,\n",
       "        0.61960784, 0.04313725, 0.        ],\n",
       "       [0.        , 0.        , 0.        , 0.        , 0.00392157,\n",
       "        0.        , 0.        , 0.        , 0.        , 0.        ,\n",
       "        0.01176471, 0.        , 0.        , 0.34901961, 0.54509804,\n",
       "        0.35294118, 0.36862745, 0.6       , 0.58431373, 0.51372549,\n",
       "        0.59215686, 0.6627451 , 0.6745098 , 0.56078431, 0.62352941,\n",
       "        0.6627451 , 0.18823529, 0.        ],\n",
       "       [0.        , 0.        , 0.        , 0.        , 0.        ,\n",
       "        0.        , 0.00784314, 0.01568627, 0.00392157, 0.        ,\n",
       "        0.        , 0.        , 0.38431373, 0.53333333, 0.43137255,\n",
       "        0.42745098, 0.43137255, 0.63529412, 0.52941176, 0.56470588,\n",
       "        0.58431373, 0.62352941, 0.65490196, 0.56470588, 0.61960784,\n",
       "        0.6627451 , 0.46666667, 0.        ],\n",
       "       [0.        , 0.        , 0.00784314, 0.00784314, 0.00392157,\n",
       "        0.00784314, 0.        , 0.        , 0.        , 0.        ,\n",
       "        0.10196078, 0.42352941, 0.45882353, 0.38823529, 0.43529412,\n",
       "        0.45882353, 0.53333333, 0.61176471, 0.5254902 , 0.60392157,\n",
       "        0.60392157, 0.61176471, 0.62745098, 0.55294118, 0.57647059,\n",
       "        0.61176471, 0.69803922, 0.        ],\n",
       "       [0.01176471, 0.        , 0.        , 0.        , 0.        ,\n",
       "        0.        , 0.        , 0.08235294, 0.20784314, 0.36078431,\n",
       "        0.45882353, 0.43529412, 0.40392157, 0.45098039, 0.50588235,\n",
       "        0.5254902 , 0.56078431, 0.60392157, 0.64705882, 0.66666667,\n",
       "        0.60392157, 0.59215686, 0.60392157, 0.56078431, 0.54117647,\n",
       "        0.58823529, 0.64705882, 0.16862745],\n",
       "       [0.        , 0.        , 0.09019608, 0.21176471, 0.25490196,\n",
       "        0.29803922, 0.33333333, 0.4627451 , 0.50196078, 0.48235294,\n",
       "        0.43529412, 0.44313725, 0.4627451 , 0.49803922, 0.49019608,\n",
       "        0.54509804, 0.52156863, 0.53333333, 0.62745098, 0.54901961,\n",
       "        0.60784314, 0.63137255, 0.56470588, 0.60784314, 0.6745098 ,\n",
       "        0.63137255, 0.74117647, 0.24313725],\n",
       "       [0.        , 0.26666667, 0.36862745, 0.35294118, 0.43529412,\n",
       "        0.44705882, 0.43529412, 0.44705882, 0.45098039, 0.49803922,\n",
       "        0.52941176, 0.53333333, 0.56078431, 0.49411765, 0.49803922,\n",
       "        0.59215686, 0.60392157, 0.56078431, 0.58039216, 0.49019608,\n",
       "        0.63529412, 0.63529412, 0.56470588, 0.54117647, 0.6       ,\n",
       "        0.63529412, 0.76862745, 0.22745098],\n",
       "       [0.2745098 , 0.6627451 , 0.50588235, 0.40784314, 0.38431373,\n",
       "        0.39215686, 0.36862745, 0.38039216, 0.38431373, 0.4       ,\n",
       "        0.42352941, 0.41568627, 0.46666667, 0.47058824, 0.50588235,\n",
       "        0.58431373, 0.61176471, 0.65490196, 0.74509804, 0.74509804,\n",
       "        0.76862745, 0.77647059, 0.77647059, 0.73333333, 0.77254902,\n",
       "        0.74117647, 0.72156863, 0.14117647],\n",
       "       [0.0627451 , 0.49411765, 0.67058824, 0.7372549 , 0.7372549 ,\n",
       "        0.72156863, 0.67058824, 0.6       , 0.52941176, 0.47058824,\n",
       "        0.49411765, 0.49803922, 0.57254902, 0.7254902 , 0.76470588,\n",
       "        0.81960784, 0.81568627, 1.        , 0.81960784, 0.69411765,\n",
       "        0.96078431, 0.98823529, 0.98431373, 0.98431373, 0.96862745,\n",
       "        0.8627451 , 0.80784314, 0.19215686],\n",
       "       [0.        , 0.        , 0.        , 0.04705882, 0.2627451 ,\n",
       "        0.41568627, 0.64313725, 0.7254902 , 0.78039216, 0.82352941,\n",
       "        0.82745098, 0.82352941, 0.81568627, 0.74509804, 0.58823529,\n",
       "        0.32156863, 0.03137255, 0.        , 0.        , 0.        ,\n",
       "        0.69803922, 0.81568627, 0.7372549 , 0.68627451, 0.63529412,\n",
       "        0.61960784, 0.59215686, 0.04313725],\n",
       "       [0.        , 0.        , 0.        , 0.        , 0.        ,\n",
       "        0.        , 0.        , 0.        , 0.        , 0.        ,\n",
       "        0.        , 0.        , 0.        , 0.        , 0.        ,\n",
       "        0.        , 0.        , 0.        , 0.        , 0.        ,\n",
       "        0.        , 0.        , 0.        , 0.        , 0.        ,\n",
       "        0.        , 0.        , 0.        ],\n",
       "       [0.        , 0.        , 0.        , 0.        , 0.        ,\n",
       "        0.        , 0.        , 0.        , 0.        , 0.        ,\n",
       "        0.        , 0.        , 0.        , 0.        , 0.        ,\n",
       "        0.        , 0.        , 0.        , 0.        , 0.        ,\n",
       "        0.        , 0.        , 0.        , 0.        , 0.        ,\n",
       "        0.        , 0.        , 0.        ],\n",
       "       [0.        , 0.        , 0.        , 0.        , 0.        ,\n",
       "        0.        , 0.        , 0.        , 0.        , 0.        ,\n",
       "        0.        , 0.        , 0.        , 0.        , 0.        ,\n",
       "        0.        , 0.        , 0.        , 0.        , 0.        ,\n",
       "        0.        , 0.        , 0.        , 0.        , 0.        ,\n",
       "        0.        , 0.        , 0.        ],\n",
       "       [0.        , 0.        , 0.        , 0.        , 0.        ,\n",
       "        0.        , 0.        , 0.        , 0.        , 0.        ,\n",
       "        0.        , 0.        , 0.        , 0.        , 0.        ,\n",
       "        0.        , 0.        , 0.        , 0.        , 0.        ,\n",
       "        0.        , 0.        , 0.        , 0.        , 0.        ,\n",
       "        0.        , 0.        , 0.        ],\n",
       "       [0.        , 0.        , 0.        , 0.        , 0.        ,\n",
       "        0.        , 0.        , 0.        , 0.        , 0.        ,\n",
       "        0.        , 0.        , 0.        , 0.        , 0.        ,\n",
       "        0.        , 0.        , 0.        , 0.        , 0.        ,\n",
       "        0.        , 0.        , 0.        , 0.        , 0.        ,\n",
       "        0.        , 0.        , 0.        ],\n",
       "       [0.        , 0.        , 0.        , 0.        , 0.        ,\n",
       "        0.        , 0.        , 0.        , 0.        , 0.        ,\n",
       "        0.        , 0.        , 0.        , 0.        , 0.        ,\n",
       "        0.        , 0.        , 0.        , 0.        , 0.        ,\n",
       "        0.        , 0.        , 0.        , 0.        , 0.        ,\n",
       "        0.        , 0.        , 0.        ]])"
      ]
     },
     "execution_count": 22,
     "metadata": {},
     "output_type": "execute_result"
    }
   ],
   "source": [
    "Xtest[0]"
   ]
  },
  {
   "cell_type": "markdown",
   "id": "judicial-northeast",
   "metadata": {},
   "source": [
    "###  Functional Model"
   ]
  },
  {
   "cell_type": "code",
   "execution_count": 68,
   "id": "selected-aaron",
   "metadata": {},
   "outputs": [],
   "source": [
    "from tensorflow.keras.models import Model"
   ]
  },
  {
   "cell_type": "code",
   "execution_count": 69,
   "id": "textile-confidence",
   "metadata": {},
   "outputs": [],
   "source": [
    "from tensorflow.keras.layers import Dense,Input"
   ]
  },
  {
   "cell_type": "code",
   "execution_count": 70,
   "id": "herbal-australian",
   "metadata": {},
   "outputs": [],
   "source": [
    "feed = Input(shape = (784,))"
   ]
  },
  {
   "cell_type": "code",
   "execution_count": 71,
   "id": "capital-military",
   "metadata": {},
   "outputs": [
    {
     "data": {
      "text/plain": [
       "<KerasTensor: shape=(None, 784) dtype=float32 (created by layer 'input_3')>"
      ]
     },
     "execution_count": 71,
     "metadata": {},
     "output_type": "execute_result"
    }
   ],
   "source": [
    "feed"
   ]
  },
  {
   "cell_type": "code",
   "execution_count": 72,
   "id": "dietary-height",
   "metadata": {},
   "outputs": [],
   "source": [
    "hid1 = Dense(512, activation =  'relu')(feed)"
   ]
  },
  {
   "cell_type": "code",
   "execution_count": 73,
   "id": "durable-secret",
   "metadata": {},
   "outputs": [],
   "source": [
    "hid2 = Dense(256, activation = 'relu')(hid1)"
   ]
  },
  {
   "cell_type": "code",
   "execution_count": 74,
   "id": "broad-aluminum",
   "metadata": {},
   "outputs": [
    {
     "data": {
      "text/plain": [
       "<KerasTensor: shape=(None, 256) dtype=float32 (created by layer 'dense_10')>"
      ]
     },
     "execution_count": 74,
     "metadata": {},
     "output_type": "execute_result"
    }
   ],
   "source": [
    "hid2"
   ]
  },
  {
   "cell_type": "code",
   "execution_count": 75,
   "id": "behavioral-slope",
   "metadata": {},
   "outputs": [],
   "source": [
    "hid3 = Dense(128, activation = 'relu')(hid2)"
   ]
  },
  {
   "cell_type": "code",
   "execution_count": 76,
   "id": "equipped-alabama",
   "metadata": {},
   "outputs": [],
   "source": [
    "out = Dense(10, activation = 'softmax')(hid3)"
   ]
  },
  {
   "cell_type": "code",
   "execution_count": 77,
   "id": "human-operation",
   "metadata": {},
   "outputs": [],
   "source": [
    "fmodel1 = Model(inputs = feed, outputs = out)"
   ]
  },
  {
   "cell_type": "code",
   "execution_count": 78,
   "id": "metric-guitar",
   "metadata": {},
   "outputs": [
    {
     "name": "stdout",
     "output_type": "stream",
     "text": [
      "Model: \"model_3\"\n",
      "_________________________________________________________________\n",
      " Layer (type)                Output Shape              Param #   \n",
      "=================================================================\n",
      " input_3 (InputLayer)        [(None, 784)]             0         \n",
      "                                                                 \n",
      " dense_9 (Dense)             (None, 512)               401920    \n",
      "                                                                 \n",
      " dense_10 (Dense)            (None, 256)               131328    \n",
      "                                                                 \n",
      " dense_11 (Dense)            (None, 128)               32896     \n",
      "                                                                 \n",
      " dense_12 (Dense)            (None, 10)                1290      \n",
      "                                                                 \n",
      "=================================================================\n",
      "Total params: 567,434\n",
      "Trainable params: 567,434\n",
      "Non-trainable params: 0\n",
      "_________________________________________________________________\n"
     ]
    }
   ],
   "source": [
    "fmodel1.summary()"
   ]
  },
  {
   "cell_type": "code",
   "execution_count": 89,
   "id": "industrial-viewer",
   "metadata": {},
   "outputs": [],
   "source": [
    "fmodel1.compile(optimizer= keras.optimizers.Adam(learning_rate=0.0001), \n",
    "                loss = \"sparse_categorical_crossentropy\", \n",
    "                metrics=['accuracy'])"
   ]
  },
  {
   "cell_type": "code",
   "execution_count": null,
   "id": "powered-single",
   "metadata": {},
   "outputs": [],
   "source": []
  },
  {
   "cell_type": "code",
   "execution_count": 90,
   "id": "preceding-angle",
   "metadata": {},
   "outputs": [
    {
     "name": "stdout",
     "output_type": "stream",
     "text": [
      "Epoch 1/15\n",
      "1875/1875 [==============================] - 17s 9ms/step - loss: 0.1411 - accuracy: 0.9453\n",
      "Epoch 2/15\n",
      "1875/1875 [==============================] - 16s 9ms/step - loss: 0.1289 - accuracy: 0.9491\n",
      "Epoch 3/15\n",
      "1875/1875 [==============================] - 14s 7ms/step - loss: 0.1222 - accuracy: 0.9512\n",
      "Epoch 4/15\n",
      "1875/1875 [==============================] - 15s 8ms/step - loss: 0.1173 - accuracy: 0.9527\n",
      "Epoch 5/15\n",
      "1875/1875 [==============================] - 15s 8ms/step - loss: 0.1128 - accuracy: 0.9548\n",
      "Epoch 6/15\n",
      "1875/1875 [==============================] - 16s 8ms/step - loss: 0.1089 - accuracy: 0.9559\n",
      "Epoch 7/15\n",
      "1875/1875 [==============================] - 14s 8ms/step - loss: 0.1051 - accuracy: 0.9576\n",
      "Epoch 8/15\n",
      "1875/1875 [==============================] - 15s 8ms/step - loss: 0.1013 - accuracy: 0.9592\n",
      "Epoch 9/15\n",
      "1875/1875 [==============================] - 17s 9ms/step - loss: 0.0975 - accuracy: 0.9611\n",
      "Epoch 10/15\n",
      "1875/1875 [==============================] - 15s 8ms/step - loss: 0.0941 - accuracy: 0.9622\n",
      "Epoch 11/15\n",
      "1875/1875 [==============================] - 16s 9ms/step - loss: 0.0909 - accuracy: 0.9636\n",
      "Epoch 12/15\n",
      "1875/1875 [==============================] - 15s 8ms/step - loss: 0.0873 - accuracy: 0.9654\n",
      "Epoch 13/15\n",
      "1875/1875 [==============================] - 17s 9ms/step - loss: 0.0841 - accuracy: 0.9665\n",
      "Epoch 14/15\n",
      "1875/1875 [==============================] - 16s 9ms/step - loss: 0.0810 - accuracy: 0.9676\n",
      "Epoch 15/15\n",
      "1875/1875 [==============================] - 18s 9ms/step - loss: 0.0779 - accuracy: 0.9692\n"
     ]
    },
    {
     "data": {
      "text/plain": [
       "<keras.callbacks.History at 0x23b3e43fc40>"
      ]
     },
     "execution_count": 90,
     "metadata": {},
     "output_type": "execute_result"
    }
   ],
   "source": [
    "fmodel1.fit(Xtrain, ytrain, epochs=15)"
   ]
  },
  {
   "cell_type": "code",
   "execution_count": 91,
   "id": "gross-blocking",
   "metadata": {},
   "outputs": [],
   "source": [
    "ypred = fmodel1.predict(Xtest)"
   ]
  },
  {
   "cell_type": "code",
   "execution_count": 92,
   "id": "median-burton",
   "metadata": {},
   "outputs": [],
   "source": [
    "from sklearn.metrics import accuracy_score"
   ]
  },
  {
   "cell_type": "code",
   "execution_count": 93,
   "id": "swedish-dialogue",
   "metadata": {},
   "outputs": [
    {
     "data": {
      "text/plain": [
       "array([[1.1460529e-19, 4.5307908e-19, 7.7277751e-26, ..., 1.7400571e-13,\n",
       "        4.8681285e-24, 1.0000000e+00],\n",
       "       [1.5717593e-08, 4.0888848e-17, 9.9902546e-01, ..., 2.4054443e-19,\n",
       "        1.2680118e-17, 6.6294059e-23],\n",
       "       [0.0000000e+00, 1.0000000e+00, 0.0000000e+00, ..., 0.0000000e+00,\n",
       "        0.0000000e+00, 0.0000000e+00],\n",
       "       ...,\n",
       "       [1.1133390e-17, 1.9111231e-35, 2.2735235e-23, ..., 0.0000000e+00,\n",
       "        1.0000000e+00, 0.0000000e+00],\n",
       "       [0.0000000e+00, 1.0000000e+00, 0.0000000e+00, ..., 0.0000000e+00,\n",
       "        0.0000000e+00, 0.0000000e+00],\n",
       "       [5.2572547e-11, 1.0957335e-28, 5.9240326e-17, ..., 3.3505977e-19,\n",
       "        1.7879536e-19, 7.6295256e-20]], dtype=float32)"
      ]
     },
     "execution_count": 93,
     "metadata": {},
     "output_type": "execute_result"
    }
   ],
   "source": [
    "ypred"
   ]
  },
  {
   "cell_type": "code",
   "execution_count": 94,
   "id": "peripheral-maintenance",
   "metadata": {},
   "outputs": [],
   "source": [
    "ypred = ypred.argmax(axis = 1)"
   ]
  },
  {
   "cell_type": "code",
   "execution_count": 95,
   "id": "scientific-yacht",
   "metadata": {},
   "outputs": [
    {
     "data": {
      "text/plain": [
       "0.9026"
      ]
     },
     "execution_count": 95,
     "metadata": {},
     "output_type": "execute_result"
    }
   ],
   "source": [
    "accuracy_score(ytest, ypred)"
   ]
  },
  {
   "cell_type": "code",
   "execution_count": 86,
   "id": "little-facility",
   "metadata": {},
   "outputs": [],
   "source": [
    "from tensorflow import  keras"
   ]
  },
  {
   "cell_type": "code",
   "execution_count": 96,
   "id": "public-enemy",
   "metadata": {},
   "outputs": [
    {
     "data": {
      "text/plain": [
       "<keras.optimizer_v2.adam.Adam at 0x23b3e431ac0>"
      ]
     },
     "execution_count": 96,
     "metadata": {},
     "output_type": "execute_result"
    }
   ],
   "source": [
    "keras.optimizers.Adam(learning_rate=0.0001)"
   ]
  },
  {
   "cell_type": "markdown",
   "id": "sophisticated-application",
   "metadata": {},
   "source": [
    "###  Functional Model _ 2"
   ]
  },
  {
   "cell_type": "code",
   "execution_count": 97,
   "id": "representative-formula",
   "metadata": {},
   "outputs": [],
   "source": [
    "from tensorflow.keras.layers import Dense, Input"
   ]
  },
  {
   "cell_type": "code",
   "execution_count": 116,
   "id": "differential-venture",
   "metadata": {},
   "outputs": [],
   "source": [
    "inp = Input(shape  = (784,))"
   ]
  },
  {
   "cell_type": "code",
   "execution_count": 117,
   "id": "synthetic-platinum",
   "metadata": {},
   "outputs": [],
   "source": [
    "hidden1 = Dense(512, activation = 'relu')"
   ]
  },
  {
   "cell_type": "code",
   "execution_count": 118,
   "id": "sitting-present",
   "metadata": {},
   "outputs": [],
   "source": [
    "hidden2 = Dense(256, activation = 'relu')"
   ]
  },
  {
   "cell_type": "code",
   "execution_count": 119,
   "id": "authorized-marine",
   "metadata": {},
   "outputs": [],
   "source": [
    "out = Dense(10, activation = 'softmax')"
   ]
  },
  {
   "cell_type": "code",
   "execution_count": null,
   "id": "affiliated-twenty",
   "metadata": {},
   "outputs": [],
   "source": []
  },
  {
   "cell_type": "code",
   "execution_count": 120,
   "id": "incorrect-passage",
   "metadata": {},
   "outputs": [],
   "source": [
    "x1 = hidden1(inp)"
   ]
  },
  {
   "cell_type": "code",
   "execution_count": 121,
   "id": "afraid-mattress",
   "metadata": {},
   "outputs": [],
   "source": [
    "y1 = hidden2(x1)"
   ]
  },
  {
   "cell_type": "code",
   "execution_count": 122,
   "id": "spanish-interpretation",
   "metadata": {},
   "outputs": [],
   "source": [
    "z1 = out(y1)"
   ]
  },
  {
   "cell_type": "code",
   "execution_count": 123,
   "id": "humanitarian-tenant",
   "metadata": {},
   "outputs": [],
   "source": [
    "fmodel2 = Model(inputs= inp, outputs = z1)"
   ]
  },
  {
   "cell_type": "code",
   "execution_count": 124,
   "id": "honest-lawsuit",
   "metadata": {},
   "outputs": [
    {
     "name": "stdout",
     "output_type": "stream",
     "text": [
      "Model: \"model_6\"\n",
      "_________________________________________________________________\n",
      " Layer (type)                Output Shape              Param #   \n",
      "=================================================================\n",
      " input_7 (InputLayer)        [(None, 784)]             0         \n",
      "                                                                 \n",
      " dense_16 (Dense)            (None, 512)               401920    \n",
      "                                                                 \n",
      " dense_17 (Dense)            (None, 256)               131328    \n",
      "                                                                 \n",
      " dense_18 (Dense)            (None, 10)                2570      \n",
      "                                                                 \n",
      "=================================================================\n",
      "Total params: 535,818\n",
      "Trainable params: 535,818\n",
      "Non-trainable params: 0\n",
      "_________________________________________________________________\n"
     ]
    }
   ],
   "source": [
    "fmodel2.summary()"
   ]
  },
  {
   "cell_type": "code",
   "execution_count": 129,
   "id": "driving-rhythm",
   "metadata": {},
   "outputs": [],
   "source": [
    "from tensorflow.keras.layers import Flatten"
   ]
  },
  {
   "cell_type": "code",
   "execution_count": 125,
   "id": "veterinary-bishop",
   "metadata": {},
   "outputs": [],
   "source": [
    "input1  = Input(shape  = (28,28))"
   ]
  },
  {
   "cell_type": "code",
   "execution_count": 126,
   "id": "empirical-arrival",
   "metadata": {},
   "outputs": [],
   "source": [
    "h1 = Dense(512, activation = 'relu')"
   ]
  },
  {
   "cell_type": "code",
   "execution_count": 127,
   "id": "explicit-length",
   "metadata": {},
   "outputs": [],
   "source": [
    "h2 = Dense(256, activation = 'relu')"
   ]
  },
  {
   "cell_type": "code",
   "execution_count": 128,
   "id": "signed-presentation",
   "metadata": {},
   "outputs": [],
   "source": [
    "res = Dense(10, activation = 'softmax')"
   ]
  },
  {
   "cell_type": "code",
   "execution_count": 130,
   "id": "cloudy-scholar",
   "metadata": {},
   "outputs": [],
   "source": [
    "flat = Flatten()"
   ]
  },
  {
   "cell_type": "code",
   "execution_count": 132,
   "id": "swiss-eleven",
   "metadata": {},
   "outputs": [],
   "source": [
    "a1 = flat(input1)"
   ]
  },
  {
   "cell_type": "code",
   "execution_count": 133,
   "id": "strategic-genetics",
   "metadata": {},
   "outputs": [],
   "source": [
    "b1 = h1(a1)"
   ]
  },
  {
   "cell_type": "code",
   "execution_count": 134,
   "id": "neural-rings",
   "metadata": {},
   "outputs": [],
   "source": [
    "c1 = h2(b1)"
   ]
  },
  {
   "cell_type": "code",
   "execution_count": 135,
   "id": "stuck-johns",
   "metadata": {},
   "outputs": [],
   "source": [
    "result = res(c1)"
   ]
  },
  {
   "cell_type": "code",
   "execution_count": 136,
   "id": "improving-skirt",
   "metadata": {},
   "outputs": [],
   "source": [
    "fmodel3 = Model(inputs = input1, outputs = result)"
   ]
  },
  {
   "cell_type": "code",
   "execution_count": 137,
   "id": "opened-taylor",
   "metadata": {},
   "outputs": [
    {
     "name": "stdout",
     "output_type": "stream",
     "text": [
      "Model: \"model_7\"\n",
      "_________________________________________________________________\n",
      " Layer (type)                Output Shape              Param #   \n",
      "=================================================================\n",
      " input_8 (InputLayer)        [(None, 28, 28)]          0         \n",
      "                                                                 \n",
      " flatten (Flatten)           (None, 784)               0         \n",
      "                                                                 \n",
      " dense_19 (Dense)            (None, 512)               401920    \n",
      "                                                                 \n",
      " dense_20 (Dense)            (None, 256)               131328    \n",
      "                                                                 \n",
      " dense_21 (Dense)            (None, 10)                2570      \n",
      "                                                                 \n",
      "=================================================================\n",
      "Total params: 535,818\n",
      "Trainable params: 535,818\n",
      "Non-trainable params: 0\n",
      "_________________________________________________________________\n"
     ]
    }
   ],
   "source": [
    "fmodel3.summary()"
   ]
  },
  {
   "cell_type": "code",
   "execution_count": null,
   "id": "powerful-audience",
   "metadata": {},
   "outputs": [],
   "source": []
  }
 ],
 "metadata": {
  "kernelspec": {
   "display_name": "Python 3",
   "language": "python",
   "name": "python3"
  },
  "language_info": {
   "codemirror_mode": {
    "name": "ipython",
    "version": 3
   },
   "file_extension": ".py",
   "mimetype": "text/x-python",
   "name": "python",
   "nbconvert_exporter": "python",
   "pygments_lexer": "ipython3",
   "version": "3.9.5"
  }
 },
 "nbformat": 4,
 "nbformat_minor": 5
}
