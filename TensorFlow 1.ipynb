{
 "cells": [
  {
   "cell_type": "code",
   "execution_count": 1,
   "id": "dental-evolution",
   "metadata": {},
   "outputs": [],
   "source": [
    "import tensorflow as  tf "
   ]
  },
  {
   "cell_type": "code",
   "execution_count": 2,
   "id": "collectible-preview",
   "metadata": {},
   "outputs": [],
   "source": [
    "c1 = tf.constant([10,20,30,40])"
   ]
  },
  {
   "cell_type": "code",
   "execution_count": 3,
   "id": "committed-yellow",
   "metadata": {},
   "outputs": [
    {
     "data": {
      "text/plain": [
       "<tf.Tensor: shape=(4,), dtype=int32, numpy=array([10, 20, 30, 40])>"
      ]
     },
     "execution_count": 3,
     "metadata": {},
     "output_type": "execute_result"
    }
   ],
   "source": [
    "c1"
   ]
  },
  {
   "cell_type": "code",
   "execution_count": 4,
   "id": "twenty-documentary",
   "metadata": {},
   "outputs": [
    {
     "data": {
      "text/plain": [
       "<tf.Tensor: shape=(), dtype=int32, numpy=100>"
      ]
     },
     "execution_count": 4,
     "metadata": {},
     "output_type": "execute_result"
    }
   ],
   "source": [
    "tf.constant(100)"
   ]
  },
  {
   "cell_type": "code",
   "execution_count": 5,
   "id": "surprised-electronics",
   "metadata": {},
   "outputs": [
    {
     "data": {
      "text/plain": [
       "<tf.Tensor: shape=(), dtype=float32, numpy=10.25>"
      ]
     },
     "execution_count": 5,
     "metadata": {},
     "output_type": "execute_result"
    }
   ],
   "source": [
    "tf.constant(10.25)"
   ]
  },
  {
   "cell_type": "code",
   "execution_count": 6,
   "id": "respiratory-ordinance",
   "metadata": {},
   "outputs": [
    {
     "data": {
      "text/plain": [
       "<tf.Tensor: shape=(), dtype=string, numpy=b'Welcome to DeepLearning'>"
      ]
     },
     "execution_count": 6,
     "metadata": {},
     "output_type": "execute_result"
    }
   ],
   "source": [
    "tf.constant(\"Welcome to DeepLearning\")"
   ]
  },
  {
   "cell_type": "code",
   "execution_count": 7,
   "id": "centered-allen",
   "metadata": {},
   "outputs": [
    {
     "data": {
      "text/plain": [
       "<tf.Tensor: shape=(), dtype=complex128, numpy=(10+2j)>"
      ]
     },
     "execution_count": 7,
     "metadata": {},
     "output_type": "execute_result"
    }
   ],
   "source": [
    "tf.constant(10+2j)"
   ]
  },
  {
   "cell_type": "code",
   "execution_count": 8,
   "id": "checked-primary",
   "metadata": {},
   "outputs": [
    {
     "data": {
      "text/plain": [
       "<tf.Tensor: shape=(3,), dtype=int32, numpy=array([100, 200, 300])>"
      ]
     },
     "execution_count": 8,
     "metadata": {},
     "output_type": "execute_result"
    }
   ],
   "source": [
    "a =100\n",
    "b= 200\n",
    "c= 300\n",
    "d= 400\n",
    "\n",
    "tf.constant([a,b,c])"
   ]
  },
  {
   "cell_type": "code",
   "execution_count": 9,
   "id": "invalid-theta",
   "metadata": {},
   "outputs": [],
   "source": [
    "c2 = tf.constant([a,b,c,d])"
   ]
  },
  {
   "cell_type": "code",
   "execution_count": 10,
   "id": "classified-vienna",
   "metadata": {},
   "outputs": [
    {
     "data": {
      "text/plain": [
       "<tf.Tensor: shape=(4,), dtype=int32, numpy=array([100, 200, 300, 400])>"
      ]
     },
     "execution_count": 10,
     "metadata": {},
     "output_type": "execute_result"
    }
   ],
   "source": [
    "c2"
   ]
  },
  {
   "cell_type": "code",
   "execution_count": 11,
   "id": "integrated-andrew",
   "metadata": {},
   "outputs": [
    {
     "data": {
      "text/plain": [
       "TensorShape([4])"
      ]
     },
     "execution_count": 11,
     "metadata": {},
     "output_type": "execute_result"
    }
   ],
   "source": [
    "c2.shape"
   ]
  },
  {
   "cell_type": "code",
   "execution_count": 12,
   "id": "upset-moisture",
   "metadata": {},
   "outputs": [
    {
     "data": {
      "text/plain": [
       "1"
      ]
     },
     "execution_count": 12,
     "metadata": {},
     "output_type": "execute_result"
    }
   ],
   "source": [
    "c2.ndim"
   ]
  },
  {
   "cell_type": "code",
   "execution_count": 13,
   "id": "worth-ladder",
   "metadata": {},
   "outputs": [
    {
     "data": {
      "text/plain": [
       "tf.int32"
      ]
     },
     "execution_count": 13,
     "metadata": {},
     "output_type": "execute_result"
    }
   ],
   "source": [
    "c2.dtype"
   ]
  },
  {
   "cell_type": "code",
   "execution_count": 14,
   "id": "rural-chain",
   "metadata": {},
   "outputs": [],
   "source": [
    "c3 =tf.constant([a,b,c,d], shape=[2,2])"
   ]
  },
  {
   "cell_type": "code",
   "execution_count": 15,
   "id": "played-exemption",
   "metadata": {},
   "outputs": [
    {
     "data": {
      "text/plain": [
       "<tf.Tensor: shape=(2, 2), dtype=int32, numpy=\n",
       "array([[100, 200],\n",
       "       [300, 400]])>"
      ]
     },
     "execution_count": 15,
     "metadata": {},
     "output_type": "execute_result"
    }
   ],
   "source": [
    "c3"
   ]
  },
  {
   "cell_type": "code",
   "execution_count": 16,
   "id": "answering-ideal",
   "metadata": {},
   "outputs": [],
   "source": [
    "c4 =tf.constant([a,b,c,d], shape=[2,2],dtype = tf.float32)"
   ]
  },
  {
   "cell_type": "code",
   "execution_count": 17,
   "id": "funky-scale",
   "metadata": {},
   "outputs": [
    {
     "data": {
      "text/plain": [
       "<tf.Tensor: shape=(2, 2), dtype=float32, numpy=\n",
       "array([[100., 200.],\n",
       "       [300., 400.]], dtype=float32)>"
      ]
     },
     "execution_count": 17,
     "metadata": {},
     "output_type": "execute_result"
    }
   ],
   "source": [
    "c4"
   ]
  },
  {
   "cell_type": "code",
   "execution_count": 18,
   "id": "dedicated-alpha",
   "metadata": {},
   "outputs": [],
   "source": [
    "c5 = tf.constant([10,20,30,40,50,60],shape = (2,3), dtype = tf.float16)"
   ]
  },
  {
   "cell_type": "code",
   "execution_count": 19,
   "id": "objective-antarctica",
   "metadata": {},
   "outputs": [
    {
     "data": {
      "text/plain": [
       "<tf.Tensor: shape=(2, 3), dtype=float16, numpy=\n",
       "array([[10., 20., 30.],\n",
       "       [40., 50., 60.]], dtype=float16)>"
      ]
     },
     "execution_count": 19,
     "metadata": {},
     "output_type": "execute_result"
    }
   ],
   "source": [
    "c5"
   ]
  },
  {
   "cell_type": "code",
   "execution_count": 20,
   "id": "eligible-plymouth",
   "metadata": {},
   "outputs": [
    {
     "name": "stdout",
     "output_type": "stream",
     "text": [
      "tf.Tensor(\n",
      "[[10. 20. 30.]\n",
      " [40. 50. 60.]], shape=(2, 3), dtype=float16)\n"
     ]
    }
   ],
   "source": [
    "print(c5)"
   ]
  },
  {
   "cell_type": "code",
   "execution_count": 21,
   "id": "organizational-orlando",
   "metadata": {},
   "outputs": [
    {
     "name": "stdout",
     "output_type": "stream",
     "text": [
      "[[10 20 30]\n",
      " [40 50 60]]\r\n"
     ]
    }
   ],
   "source": [
    "tf.print(c5)"
   ]
  },
  {
   "cell_type": "code",
   "execution_count": 22,
   "id": "electoral-loading",
   "metadata": {},
   "outputs": [],
   "source": [
    "import numpy as np \n",
    "import pandas as pd "
   ]
  },
  {
   "cell_type": "code",
   "execution_count": 23,
   "id": "certified-stewart",
   "metadata": {},
   "outputs": [
    {
     "data": {
      "text/plain": [
       "tf.float16"
      ]
     },
     "execution_count": 23,
     "metadata": {},
     "output_type": "execute_result"
    }
   ],
   "source": [
    "c5.dtype"
   ]
  },
  {
   "cell_type": "code",
   "execution_count": 24,
   "id": "imposed-guatemala",
   "metadata": {},
   "outputs": [
    {
     "data": {
      "text/plain": [
       "tensorflow.python.framework.ops.EagerTensor"
      ]
     },
     "execution_count": 24,
     "metadata": {},
     "output_type": "execute_result"
    }
   ],
   "source": [
    "type(c5)"
   ]
  },
  {
   "cell_type": "code",
   "execution_count": 25,
   "id": "sustained-china",
   "metadata": {},
   "outputs": [],
   "source": [
    "ary1 = np.random.randint(10,30,(5))"
   ]
  },
  {
   "cell_type": "code",
   "execution_count": 26,
   "id": "otherwise-muscle",
   "metadata": {},
   "outputs": [
    {
     "data": {
      "text/plain": [
       "array([21, 21, 16, 15, 16])"
      ]
     },
     "execution_count": 26,
     "metadata": {},
     "output_type": "execute_result"
    }
   ],
   "source": [
    "ary1"
   ]
  },
  {
   "cell_type": "code",
   "execution_count": 27,
   "id": "spare-above",
   "metadata": {},
   "outputs": [
    {
     "data": {
      "text/plain": [
       "<tf.Tensor: shape=(5,), dtype=int32, numpy=array([21, 21, 16, 15, 16])>"
      ]
     },
     "execution_count": 27,
     "metadata": {},
     "output_type": "execute_result"
    }
   ],
   "source": [
    "tf.constant(ary1)"
   ]
  },
  {
   "cell_type": "code",
   "execution_count": 28,
   "id": "cloudy-collection",
   "metadata": {},
   "outputs": [
    {
     "name": "stdout",
     "output_type": "stream",
     "text": [
      "[21 21 16 15 16]\r\n"
     ]
    }
   ],
   "source": [
    "tf.print(tf.constant(ary1))"
   ]
  },
  {
   "cell_type": "code",
   "execution_count": 29,
   "id": "educational-vintage",
   "metadata": {},
   "outputs": [],
   "source": [
    "ary2 = np.random.randint(10,50,(4,5))"
   ]
  },
  {
   "cell_type": "code",
   "execution_count": 30,
   "id": "looking-landscape",
   "metadata": {},
   "outputs": [
    {
     "data": {
      "text/plain": [
       "array([[45, 31, 13, 21, 47],\n",
       "       [48, 20, 24, 26, 11],\n",
       "       [45, 38, 38, 34, 24],\n",
       "       [19, 31, 14, 33, 14]])"
      ]
     },
     "execution_count": 30,
     "metadata": {},
     "output_type": "execute_result"
    }
   ],
   "source": [
    "ary2"
   ]
  },
  {
   "cell_type": "code",
   "execution_count": 31,
   "id": "protective-greek",
   "metadata": {},
   "outputs": [],
   "source": [
    "c6 = tf.constant(ary2)"
   ]
  },
  {
   "cell_type": "code",
   "execution_count": 32,
   "id": "noble-soldier",
   "metadata": {},
   "outputs": [
    {
     "data": {
      "text/plain": [
       "<tf.Tensor: shape=(4, 5), dtype=int32, numpy=\n",
       "array([[45, 31, 13, 21, 47],\n",
       "       [48, 20, 24, 26, 11],\n",
       "       [45, 38, 38, 34, 24],\n",
       "       [19, 31, 14, 33, 14]])>"
      ]
     },
     "execution_count": 32,
     "metadata": {},
     "output_type": "execute_result"
    }
   ],
   "source": [
    "c6"
   ]
  },
  {
   "cell_type": "code",
   "execution_count": 33,
   "id": "unavailable-jefferson",
   "metadata": {},
   "outputs": [
    {
     "data": {
      "text/plain": [
       "<tf.Tensor: shape=(4, 5), dtype=int32, numpy=\n",
       "array([[45, 31, 13, 21, 47],\n",
       "       [48, 20, 24, 26, 11],\n",
       "       [45, 38, 38, 34, 24],\n",
       "       [19, 31, 14, 33, 14]])>"
      ]
     },
     "execution_count": 33,
     "metadata": {},
     "output_type": "execute_result"
    }
   ],
   "source": [
    "c6"
   ]
  },
  {
   "cell_type": "code",
   "execution_count": 34,
   "id": "liable-beverage",
   "metadata": {},
   "outputs": [
    {
     "name": "stdout",
     "output_type": "stream",
     "text": [
      "[[45 31 13 21 47]\n",
      " [48 20 24 26 11]\n",
      " [45 38 38 34 24]\n",
      " [19 31 14 33 14]]\r\n"
     ]
    }
   ],
   "source": [
    "tf.print(c6)"
   ]
  },
  {
   "cell_type": "code",
   "execution_count": 35,
   "id": "intermediate-importance",
   "metadata": {},
   "outputs": [],
   "source": [
    "df1  = pd.DataFrame(ary2)"
   ]
  },
  {
   "cell_type": "code",
   "execution_count": 36,
   "id": "macro-reporter",
   "metadata": {},
   "outputs": [
    {
     "data": {
      "text/html": [
       "<div>\n",
       "<style scoped>\n",
       "    .dataframe tbody tr th:only-of-type {\n",
       "        vertical-align: middle;\n",
       "    }\n",
       "\n",
       "    .dataframe tbody tr th {\n",
       "        vertical-align: top;\n",
       "    }\n",
       "\n",
       "    .dataframe thead th {\n",
       "        text-align: right;\n",
       "    }\n",
       "</style>\n",
       "<table border=\"1\" class=\"dataframe\">\n",
       "  <thead>\n",
       "    <tr style=\"text-align: right;\">\n",
       "      <th></th>\n",
       "      <th>0</th>\n",
       "      <th>1</th>\n",
       "      <th>2</th>\n",
       "      <th>3</th>\n",
       "      <th>4</th>\n",
       "    </tr>\n",
       "  </thead>\n",
       "  <tbody>\n",
       "    <tr>\n",
       "      <th>0</th>\n",
       "      <td>45</td>\n",
       "      <td>31</td>\n",
       "      <td>13</td>\n",
       "      <td>21</td>\n",
       "      <td>47</td>\n",
       "    </tr>\n",
       "    <tr>\n",
       "      <th>1</th>\n",
       "      <td>48</td>\n",
       "      <td>20</td>\n",
       "      <td>24</td>\n",
       "      <td>26</td>\n",
       "      <td>11</td>\n",
       "    </tr>\n",
       "    <tr>\n",
       "      <th>2</th>\n",
       "      <td>45</td>\n",
       "      <td>38</td>\n",
       "      <td>38</td>\n",
       "      <td>34</td>\n",
       "      <td>24</td>\n",
       "    </tr>\n",
       "    <tr>\n",
       "      <th>3</th>\n",
       "      <td>19</td>\n",
       "      <td>31</td>\n",
       "      <td>14</td>\n",
       "      <td>33</td>\n",
       "      <td>14</td>\n",
       "    </tr>\n",
       "  </tbody>\n",
       "</table>\n",
       "</div>"
      ],
      "text/plain": [
       "    0   1   2   3   4\n",
       "0  45  31  13  21  47\n",
       "1  48  20  24  26  11\n",
       "2  45  38  38  34  24\n",
       "3  19  31  14  33  14"
      ]
     },
     "execution_count": 36,
     "metadata": {},
     "output_type": "execute_result"
    }
   ],
   "source": [
    "df1"
   ]
  },
  {
   "cell_type": "code",
   "execution_count": 37,
   "id": "organizational-lithuania",
   "metadata": {},
   "outputs": [],
   "source": [
    "c7 = tf.constant(df1)"
   ]
  },
  {
   "cell_type": "code",
   "execution_count": 38,
   "id": "oriented-stand",
   "metadata": {},
   "outputs": [
    {
     "data": {
      "text/plain": [
       "<tf.Tensor: shape=(4, 5), dtype=int32, numpy=\n",
       "array([[45, 31, 13, 21, 47],\n",
       "       [48, 20, 24, 26, 11],\n",
       "       [45, 38, 38, 34, 24],\n",
       "       [19, 31, 14, 33, 14]])>"
      ]
     },
     "execution_count": 38,
     "metadata": {},
     "output_type": "execute_result"
    }
   ],
   "source": [
    "c7"
   ]
  },
  {
   "cell_type": "code",
   "execution_count": 39,
   "id": "dying-mills",
   "metadata": {},
   "outputs": [
    {
     "data": {
      "text/plain": [
       "array([[1., 1., 1.],\n",
       "       [1., 1., 1.]])"
      ]
     },
     "execution_count": 39,
     "metadata": {},
     "output_type": "execute_result"
    }
   ],
   "source": [
    "np.ones((2,3))"
   ]
  },
  {
   "cell_type": "code",
   "execution_count": 40,
   "id": "physical-logic",
   "metadata": {},
   "outputs": [
    {
     "data": {
      "text/plain": [
       "array([[0., 0., 0., 0., 0.],\n",
       "       [0., 0., 0., 0., 0.],\n",
       "       [0., 0., 0., 0., 0.],\n",
       "       [0., 0., 0., 0., 0.]])"
      ]
     },
     "execution_count": 40,
     "metadata": {},
     "output_type": "execute_result"
    }
   ],
   "source": [
    "np.zeros((4,5))"
   ]
  },
  {
   "cell_type": "code",
   "execution_count": 41,
   "id": "proved-question",
   "metadata": {},
   "outputs": [],
   "source": [
    "z1 = tf.zeros(shape=(4,5))"
   ]
  },
  {
   "cell_type": "code",
   "execution_count": 42,
   "id": "developing-suicide",
   "metadata": {},
   "outputs": [
    {
     "data": {
      "text/plain": [
       "<tf.Tensor: shape=(4, 5), dtype=float32, numpy=\n",
       "array([[0., 0., 0., 0., 0.],\n",
       "       [0., 0., 0., 0., 0.],\n",
       "       [0., 0., 0., 0., 0.],\n",
       "       [0., 0., 0., 0., 0.]], dtype=float32)>"
      ]
     },
     "execution_count": 42,
     "metadata": {},
     "output_type": "execute_result"
    }
   ],
   "source": [
    "z1"
   ]
  },
  {
   "cell_type": "code",
   "execution_count": 43,
   "id": "compatible-union",
   "metadata": {},
   "outputs": [],
   "source": [
    "o1 = tf.ones(shape = (4,4))"
   ]
  },
  {
   "cell_type": "code",
   "execution_count": 44,
   "id": "invalid-archive",
   "metadata": {},
   "outputs": [
    {
     "data": {
      "text/plain": [
       "<tf.Tensor: shape=(4, 4), dtype=float32, numpy=\n",
       "array([[1., 1., 1., 1.],\n",
       "       [1., 1., 1., 1.],\n",
       "       [1., 1., 1., 1.],\n",
       "       [1., 1., 1., 1.]], dtype=float32)>"
      ]
     },
     "execution_count": 44,
     "metadata": {},
     "output_type": "execute_result"
    }
   ],
   "source": [
    "o1"
   ]
  },
  {
   "cell_type": "code",
   "execution_count": 45,
   "id": "boring-spending",
   "metadata": {},
   "outputs": [
    {
     "data": {
      "text/plain": [
       "<tf.Tensor: shape=(4, 4), dtype=float32, numpy=\n",
       "array([[1., 0., 0., 0.],\n",
       "       [0., 1., 0., 0.],\n",
       "       [0., 0., 1., 0.],\n",
       "       [0., 0., 0., 1.]], dtype=float32)>"
      ]
     },
     "execution_count": 45,
     "metadata": {},
     "output_type": "execute_result"
    }
   ],
   "source": [
    "tf.eye(4)"
   ]
  },
  {
   "cell_type": "code",
   "execution_count": 46,
   "id": "interpreted-healing",
   "metadata": {},
   "outputs": [],
   "source": [
    "tfc1 = tf.constant(np.arange(1,6))"
   ]
  },
  {
   "cell_type": "code",
   "execution_count": 47,
   "id": "balanced-stevens",
   "metadata": {},
   "outputs": [
    {
     "data": {
      "text/plain": [
       "<tf.Tensor: shape=(5,), dtype=int32, numpy=array([1, 2, 3, 4, 5])>"
      ]
     },
     "execution_count": 47,
     "metadata": {},
     "output_type": "execute_result"
    }
   ],
   "source": [
    "tfc1"
   ]
  },
  {
   "cell_type": "code",
   "execution_count": 48,
   "id": "funded-fundamental",
   "metadata": {},
   "outputs": [
    {
     "data": {
      "text/plain": [
       "<tf.Tensor: shape=(5,), dtype=int32, numpy=array([1, 2, 3, 4, 5])>"
      ]
     },
     "execution_count": 48,
     "metadata": {},
     "output_type": "execute_result"
    }
   ],
   "source": [
    "tfc1"
   ]
  },
  {
   "cell_type": "code",
   "execution_count": 49,
   "id": "harmful-israel",
   "metadata": {},
   "outputs": [],
   "source": [
    "tfc2 = tf.constant(np.arange(11,16))"
   ]
  },
  {
   "cell_type": "code",
   "execution_count": 50,
   "id": "caring-stake",
   "metadata": {},
   "outputs": [
    {
     "data": {
      "text/plain": [
       "<tf.Tensor: shape=(5,), dtype=int32, numpy=array([11, 12, 13, 14, 15])>"
      ]
     },
     "execution_count": 50,
     "metadata": {},
     "output_type": "execute_result"
    }
   ],
   "source": [
    "tfc2"
   ]
  },
  {
   "cell_type": "code",
   "execution_count": 51,
   "id": "fresh-assist",
   "metadata": {},
   "outputs": [
    {
     "data": {
      "text/plain": [
       "<tf.Tensor: shape=(5,), dtype=int32, numpy=array([12, 14, 16, 18, 20])>"
      ]
     },
     "execution_count": 51,
     "metadata": {},
     "output_type": "execute_result"
    }
   ],
   "source": [
    "tfc1 +  tfc2"
   ]
  },
  {
   "cell_type": "code",
   "execution_count": 52,
   "id": "marked-bidder",
   "metadata": {},
   "outputs": [
    {
     "data": {
      "text/plain": [
       "<tf.Tensor: shape=(5,), dtype=int32, numpy=array([11, 24, 39, 56, 75])>"
      ]
     },
     "execution_count": 52,
     "metadata": {},
     "output_type": "execute_result"
    }
   ],
   "source": [
    "tfc1 * tfc2"
   ]
  },
  {
   "cell_type": "code",
   "execution_count": 53,
   "id": "adjacent-camping",
   "metadata": {},
   "outputs": [],
   "source": [
    "tfs1 = tf.constant(\"I Like \")"
   ]
  },
  {
   "cell_type": "code",
   "execution_count": 54,
   "id": "white-majority",
   "metadata": {},
   "outputs": [],
   "source": [
    "tfs2 = tf.constant(\" TensorFlow \")"
   ]
  },
  {
   "cell_type": "code",
   "execution_count": 55,
   "id": "invisible-arkansas",
   "metadata": {},
   "outputs": [
    {
     "data": {
      "text/plain": [
       "<tf.Tensor: shape=(), dtype=string, numpy=b'I Like '>"
      ]
     },
     "execution_count": 55,
     "metadata": {},
     "output_type": "execute_result"
    }
   ],
   "source": [
    "tfs1"
   ]
  },
  {
   "cell_type": "code",
   "execution_count": 56,
   "id": "brutal-collaboration",
   "metadata": {},
   "outputs": [
    {
     "data": {
      "text/plain": [
       "<tf.Tensor: shape=(), dtype=string, numpy=b' TensorFlow '>"
      ]
     },
     "execution_count": 56,
     "metadata": {},
     "output_type": "execute_result"
    }
   ],
   "source": [
    "tfs2"
   ]
  },
  {
   "cell_type": "code",
   "execution_count": 57,
   "id": "aboriginal-gibraltar",
   "metadata": {},
   "outputs": [
    {
     "data": {
      "text/plain": [
       "<tf.Tensor: shape=(), dtype=string, numpy=b'I Like  TensorFlow '>"
      ]
     },
     "execution_count": 57,
     "metadata": {},
     "output_type": "execute_result"
    }
   ],
   "source": [
    "tfs1 + tfs2"
   ]
  },
  {
   "cell_type": "code",
   "execution_count": 58,
   "id": "discrete-primary",
   "metadata": {},
   "outputs": [
    {
     "name": "stdout",
     "output_type": "stream",
     "text": [
      "I Like  TensorFlow \r\n"
     ]
    }
   ],
   "source": [
    "tf.print(tfs1 + tfs2)"
   ]
  },
  {
   "cell_type": "code",
   "execution_count": 59,
   "id": "quiet-harassment",
   "metadata": {},
   "outputs": [
    {
     "data": {
      "text/plain": [
       "<tf.Tensor: shape=(5,), dtype=int32, numpy=array([1, 2, 3, 4, 5])>"
      ]
     },
     "execution_count": 59,
     "metadata": {},
     "output_type": "execute_result"
    }
   ],
   "source": [
    "tfc1"
   ]
  },
  {
   "cell_type": "code",
   "execution_count": 60,
   "id": "vulnerable-serve",
   "metadata": {},
   "outputs": [
    {
     "data": {
      "text/plain": [
       "<tf.Tensor: shape=(5,), dtype=int32, numpy=array([11, 12, 13, 14, 15])>"
      ]
     },
     "execution_count": 60,
     "metadata": {},
     "output_type": "execute_result"
    }
   ],
   "source": [
    "tfc2"
   ]
  },
  {
   "cell_type": "code",
   "execution_count": 61,
   "id": "characteristic-bearing",
   "metadata": {},
   "outputs": [
    {
     "data": {
      "text/plain": [
       "<tf.Tensor: shape=(10,), dtype=int32, numpy=array([ 1,  2,  3,  4,  5, 11, 12, 13, 14, 15])>"
      ]
     },
     "execution_count": 61,
     "metadata": {},
     "output_type": "execute_result"
    }
   ],
   "source": [
    "tf.concat([tfc1, tfc2], axis= 0)"
   ]
  },
  {
   "cell_type": "code",
   "execution_count": 62,
   "id": "charming-particle",
   "metadata": {},
   "outputs": [],
   "source": [
    "tf1 = tf.constant(np.random.randint(1,5,(2,2)))"
   ]
  },
  {
   "cell_type": "code",
   "execution_count": 63,
   "id": "direct-racing",
   "metadata": {},
   "outputs": [],
   "source": [
    "tf2 = tf.constant(np.random.randint(1,5,(2,2)))"
   ]
  },
  {
   "cell_type": "code",
   "execution_count": 64,
   "id": "traditional-minutes",
   "metadata": {},
   "outputs": [
    {
     "data": {
      "text/plain": [
       "<tf.Tensor: shape=(2, 2), dtype=int32, numpy=\n",
       "array([[1, 1],\n",
       "       [4, 2]])>"
      ]
     },
     "execution_count": 64,
     "metadata": {},
     "output_type": "execute_result"
    }
   ],
   "source": [
    "tf1"
   ]
  },
  {
   "cell_type": "code",
   "execution_count": 65,
   "id": "behind-wings",
   "metadata": {},
   "outputs": [
    {
     "data": {
      "text/plain": [
       "<tf.Tensor: shape=(2, 2), dtype=int32, numpy=\n",
       "array([[2, 1],\n",
       "       [3, 3]])>"
      ]
     },
     "execution_count": 65,
     "metadata": {},
     "output_type": "execute_result"
    }
   ],
   "source": [
    "tf2"
   ]
  },
  {
   "cell_type": "code",
   "execution_count": 66,
   "id": "indirect-abraham",
   "metadata": {},
   "outputs": [
    {
     "data": {
      "text/plain": [
       "<tf.Tensor: shape=(4, 2), dtype=int32, numpy=\n",
       "array([[1, 1],\n",
       "       [4, 2],\n",
       "       [2, 1],\n",
       "       [3, 3]])>"
      ]
     },
     "execution_count": 66,
     "metadata": {},
     "output_type": "execute_result"
    }
   ],
   "source": [
    "tf.concat([tf1, tf2], axis=0)"
   ]
  },
  {
   "cell_type": "code",
   "execution_count": 67,
   "id": "eligible-tonight",
   "metadata": {},
   "outputs": [],
   "source": [
    "tf3 = tf.concat([tf1, tf2], axis=1)"
   ]
  },
  {
   "cell_type": "code",
   "execution_count": 68,
   "id": "handy-demographic",
   "metadata": {},
   "outputs": [
    {
     "data": {
      "text/plain": [
       "<tf.Tensor: shape=(2, 4), dtype=int32, numpy=\n",
       "array([[1, 1, 2, 1],\n",
       "       [4, 2, 3, 3]])>"
      ]
     },
     "execution_count": 68,
     "metadata": {},
     "output_type": "execute_result"
    }
   ],
   "source": [
    "tf3"
   ]
  },
  {
   "cell_type": "code",
   "execution_count": 69,
   "id": "sacred-amber",
   "metadata": {},
   "outputs": [
    {
     "name": "stdout",
     "output_type": "stream",
     "text": [
      "[[1 1 2 1]\n",
      " [4 2 3 3]]\r\n"
     ]
    }
   ],
   "source": [
    "tf.print(tf3)"
   ]
  },
  {
   "cell_type": "code",
   "execution_count": 70,
   "id": "enclosed-bandwidth",
   "metadata": {},
   "outputs": [
    {
     "data": {
      "text/plain": [
       "TensorShape([2, 4])"
      ]
     },
     "execution_count": 70,
     "metadata": {},
     "output_type": "execute_result"
    }
   ],
   "source": [
    "tf3.shape"
   ]
  },
  {
   "cell_type": "code",
   "execution_count": 71,
   "id": "divided-philadelphia",
   "metadata": {},
   "outputs": [
    {
     "data": {
      "text/plain": [
       "<tf.Tensor: shape=(4, 2), dtype=int32, numpy=\n",
       "array([[1, 1],\n",
       "       [2, 1],\n",
       "       [4, 2],\n",
       "       [3, 3]])>"
      ]
     },
     "execution_count": 71,
     "metadata": {},
     "output_type": "execute_result"
    }
   ],
   "source": [
    "tf.reshape(tf3, shape=(4,2))"
   ]
  },
  {
   "cell_type": "code",
   "execution_count": 72,
   "id": "caring-shooting",
   "metadata": {},
   "outputs": [],
   "source": [
    "tf4 = tf.constant([10,20,30,40,50,60], shape=(3,2), dtype = tf.float32)"
   ]
  },
  {
   "cell_type": "code",
   "execution_count": 73,
   "id": "postal-copyright",
   "metadata": {},
   "outputs": [
    {
     "data": {
      "text/plain": [
       "<tf.Tensor: shape=(3, 2), dtype=float32, numpy=\n",
       "array([[10., 20.],\n",
       "       [30., 40.],\n",
       "       [50., 60.]], dtype=float32)>"
      ]
     },
     "execution_count": 73,
     "metadata": {},
     "output_type": "execute_result"
    }
   ],
   "source": [
    "tf4"
   ]
  },
  {
   "cell_type": "code",
   "execution_count": 74,
   "id": "secondary-mambo",
   "metadata": {},
   "outputs": [
    {
     "data": {
      "text/plain": [
       "<tf.Tensor: shape=(3, 2), dtype=int32, numpy=\n",
       "array([[10, 20],\n",
       "       [30, 40],\n",
       "       [50, 60]])>"
      ]
     },
     "execution_count": 74,
     "metadata": {},
     "output_type": "execute_result"
    }
   ],
   "source": [
    "tf.cast(tf4, tf.int32)"
   ]
  },
  {
   "cell_type": "code",
   "execution_count": 75,
   "id": "becoming-bearing",
   "metadata": {},
   "outputs": [
    {
     "data": {
      "text/plain": [
       "TensorShape([3, 2])"
      ]
     },
     "execution_count": 75,
     "metadata": {},
     "output_type": "execute_result"
    }
   ],
   "source": [
    "tf4.shape"
   ]
  },
  {
   "cell_type": "code",
   "execution_count": 76,
   "id": "failing-garden",
   "metadata": {},
   "outputs": [
    {
     "data": {
      "text/plain": [
       "TensorShape([2, 3])"
      ]
     },
     "execution_count": 76,
     "metadata": {},
     "output_type": "execute_result"
    }
   ],
   "source": [
    "tf.transpose(tf4).shape"
   ]
  },
  {
   "cell_type": "code",
   "execution_count": 77,
   "id": "romantic-reservoir",
   "metadata": {},
   "outputs": [
    {
     "data": {
      "text/plain": [
       "<tf.Tensor: shape=(5,), dtype=int32, numpy=array([1, 2, 3, 4, 5])>"
      ]
     },
     "execution_count": 77,
     "metadata": {},
     "output_type": "execute_result"
    }
   ],
   "source": [
    "tfc1"
   ]
  },
  {
   "cell_type": "code",
   "execution_count": 78,
   "id": "boring-necessity",
   "metadata": {},
   "outputs": [
    {
     "data": {
      "text/plain": [
       "<tf.Tensor: shape=(), dtype=int64, numpy=4>"
      ]
     },
     "execution_count": 78,
     "metadata": {},
     "output_type": "execute_result"
    }
   ],
   "source": [
    "tf.argmax(tfc1)"
   ]
  },
  {
   "cell_type": "code",
   "execution_count": 79,
   "id": "threaded-lodging",
   "metadata": {},
   "outputs": [],
   "source": [
    "tfc3 = np.random.randint(10,20,(6))"
   ]
  },
  {
   "cell_type": "code",
   "execution_count": 80,
   "id": "decimal-orientation",
   "metadata": {},
   "outputs": [
    {
     "data": {
      "text/plain": [
       "array([19, 19, 14, 19, 17, 14])"
      ]
     },
     "execution_count": 80,
     "metadata": {},
     "output_type": "execute_result"
    }
   ],
   "source": [
    "tfc3"
   ]
  },
  {
   "cell_type": "code",
   "execution_count": 81,
   "id": "former-combine",
   "metadata": {},
   "outputs": [
    {
     "data": {
      "text/plain": [
       "<tf.Tensor: shape=(), dtype=int64, numpy=0>"
      ]
     },
     "execution_count": 81,
     "metadata": {},
     "output_type": "execute_result"
    }
   ],
   "source": [
    "tf.argmax(tfc3)"
   ]
  },
  {
   "cell_type": "code",
   "execution_count": 82,
   "id": "joined-supplement",
   "metadata": {},
   "outputs": [
    {
     "data": {
      "text/plain": [
       "<tf.Tensor: shape=(), dtype=int64, numpy=2>"
      ]
     },
     "execution_count": 82,
     "metadata": {},
     "output_type": "execute_result"
    }
   ],
   "source": [
    "tf.argmin(tfc3)"
   ]
  },
  {
   "cell_type": "code",
   "execution_count": 83,
   "id": "statistical-disclaimer",
   "metadata": {},
   "outputs": [
    {
     "data": {
      "text/plain": [
       "<tf.Tensor: shape=(2, 2), dtype=int32, numpy=\n",
       "array([[1, 1],\n",
       "       [4, 2]])>"
      ]
     },
     "execution_count": 83,
     "metadata": {},
     "output_type": "execute_result"
    }
   ],
   "source": [
    "tf1"
   ]
  },
  {
   "cell_type": "code",
   "execution_count": 84,
   "id": "quick-plain",
   "metadata": {},
   "outputs": [
    {
     "data": {
      "text/plain": [
       "<tf.Tensor: shape=(2, 2), dtype=int32, numpy=\n",
       "array([[2, 1],\n",
       "       [3, 3]])>"
      ]
     },
     "execution_count": 84,
     "metadata": {},
     "output_type": "execute_result"
    }
   ],
   "source": [
    "tf2"
   ]
  },
  {
   "cell_type": "code",
   "execution_count": 85,
   "id": "banned-finger",
   "metadata": {},
   "outputs": [
    {
     "data": {
      "text/plain": [
       "<tf.Tensor: shape=(2, 2), dtype=int32, numpy=\n",
       "array([[3, 2],\n",
       "       [7, 5]])>"
      ]
     },
     "execution_count": 85,
     "metadata": {},
     "output_type": "execute_result"
    }
   ],
   "source": [
    "tf1 + tf2"
   ]
  },
  {
   "cell_type": "code",
   "execution_count": 86,
   "id": "reserved-duplicate",
   "metadata": {},
   "outputs": [
    {
     "data": {
      "text/plain": [
       "<tf.Tensor: shape=(2, 2), dtype=int32, numpy=\n",
       "array([[3, 2],\n",
       "       [7, 5]])>"
      ]
     },
     "execution_count": 86,
     "metadata": {},
     "output_type": "execute_result"
    }
   ],
   "source": [
    "tf.add(tf1, tf2)"
   ]
  },
  {
   "cell_type": "code",
   "execution_count": 87,
   "id": "tutorial-departure",
   "metadata": {},
   "outputs": [
    {
     "data": {
      "text/plain": [
       "<tf.Tensor: shape=(2, 2), dtype=int32, numpy=\n",
       "array([[-1,  0],\n",
       "       [ 1, -1]])>"
      ]
     },
     "execution_count": 87,
     "metadata": {},
     "output_type": "execute_result"
    }
   ],
   "source": [
    "tf1 -  tf2 "
   ]
  },
  {
   "cell_type": "code",
   "execution_count": 88,
   "id": "specific-sacrifice",
   "metadata": {},
   "outputs": [
    {
     "data": {
      "text/plain": [
       "<tf.Tensor: shape=(2, 2), dtype=int32, numpy=\n",
       "array([[-1,  0],\n",
       "       [ 1, -1]])>"
      ]
     },
     "execution_count": 88,
     "metadata": {},
     "output_type": "execute_result"
    }
   ],
   "source": [
    "tf.subtract(tf1, tf2)"
   ]
  },
  {
   "cell_type": "code",
   "execution_count": 89,
   "id": "devoted-robert",
   "metadata": {
    "scrolled": true
   },
   "outputs": [
    {
     "data": {
      "text/plain": [
       "<tf.Tensor: shape=(2, 2), dtype=int32, numpy=\n",
       "array([[1, 1],\n",
       "       [4, 2]])>"
      ]
     },
     "metadata": {},
     "output_type": "display_data"
    },
    {
     "data": {
      "text/plain": [
       "<tf.Tensor: shape=(2, 2), dtype=int32, numpy=\n",
       "array([[2, 1],\n",
       "       [3, 3]])>"
      ]
     },
     "metadata": {},
     "output_type": "display_data"
    }
   ],
   "source": [
    "display(tf1,tf2)"
   ]
  },
  {
   "cell_type": "markdown",
   "id": "saving-amendment",
   "metadata": {},
   "source": [
    "tf1 * tf2"
   ]
  },
  {
   "cell_type": "code",
   "execution_count": 90,
   "id": "dependent-blink",
   "metadata": {},
   "outputs": [
    {
     "data": {
      "text/plain": [
       "<tf.Tensor: shape=(2, 2), dtype=int32, numpy=\n",
       "array([[ 5,  4],\n",
       "       [14, 10]])>"
      ]
     },
     "execution_count": 90,
     "metadata": {},
     "output_type": "execute_result"
    }
   ],
   "source": [
    "tf.matmul(tf1,tf2)"
   ]
  },
  {
   "cell_type": "code",
   "execution_count": 91,
   "id": "affecting-inspector",
   "metadata": {},
   "outputs": [
    {
     "data": {
      "text/plain": [
       "<tf.Tensor: shape=(2, 2), dtype=int32, numpy=\n",
       "array([[ 2,  1],\n",
       "       [12,  6]])>"
      ]
     },
     "execution_count": 91,
     "metadata": {},
     "output_type": "execute_result"
    }
   ],
   "source": [
    "tf.multiply(tf1, tf2)"
   ]
  },
  {
   "cell_type": "code",
   "execution_count": null,
   "id": "incorporate-spare",
   "metadata": {},
   "outputs": [],
   "source": []
  }
 ],
 "metadata": {
  "kernelspec": {
   "display_name": "Python 3 (ipykernel)",
   "language": "python",
   "name": "python3"
  },
  "language_info": {
   "codemirror_mode": {
    "name": "ipython",
    "version": 3
   },
   "file_extension": ".py",
   "mimetype": "text/x-python",
   "name": "python",
   "nbconvert_exporter": "python",
   "pygments_lexer": "ipython3",
   "version": "3.9.7"
  }
 },
 "nbformat": 4,
 "nbformat_minor": 5
}
